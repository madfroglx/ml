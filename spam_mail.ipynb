{
 "cells": [
  {
   "cell_type": "code",
   "execution_count": 10,
   "metadata": {
    "collapsed": true
   },
   "outputs": [],
   "source": [
    "import numpy as np\n",
    "import os\n",
    "import tarfile\n",
    "from ml.tools.fileutils import read_single_file, read_files\n",
    "import pandas as pd\n",
    "from sklearn.feature_extraction.text import CountVectorizer, TfidfVectorizer\n",
    "from sklearn.model_selection import train_test_split\n",
    "from sklearn.naive_bayes import MultinomialNB"
   ]
  },
  {
   "cell_type": "code",
   "execution_count": 2,
   "outputs": [],
   "source": [
    "HAM = 0  # 非垃圾邮件\n",
    "SPAM = 1  # 垃圾邮件\n",
    "\n",
    "base_dir = 'D:/pedestrian/'\n",
    "ham_dir = base_dir + 'ham'\n",
    "spam_dir = base_dir + 'spam'\n",
    "\n",
    "if not os.path.exists(ham_dir):\n",
    "    os.mkdir(ham_dir)\n",
    "if not os.path.exists(spam_dir):\n",
    "    os.mkdir(spam_dir)\n",
    "\n",
    "sources = [('kitchen-l.tar.gz', HAM), ('lokay-m.tar.gz', HAM), ('williams-w3.tar.gz', HAM), ('kaminski-v.tar.gz', HAM),\n",
    "           ('farmer-d.tar.gz', HAM), ('beck-s.tar.gz', HAM), ('GP.tar.gz', SPAM), ('BG.tar.gz', SPAM),\n",
    "           ('SH.tar.gz', SPAM)]\n",
    "for source in sources:\n",
    "    file_name = base_dir + str(source[0])\n",
    "    with tarfile.open(file_name) as f:\n",
    "        if source[1] == HAM:\n",
    "            f.extractall(ham_dir)\n",
    "        elif source[1] == SPAM:\n",
    "            f.extractall(spam_dir)\n"
   ],
   "metadata": {
    "collapsed": false,
    "pycharm": {
     "name": "#%%\n"
    }
   }
  },
  {
   "cell_type": "code",
   "execution_count": 2,
   "outputs": [],
   "source": [
    "hams = []\n",
    "spams = []\n",
    "read_files(\"D:/pedestrian/ham\", hams)\n",
    "read_files(\"D:/pedestrian/spam\", spams)\n",
    "X_all = hams + spams\n",
    "y = np.r_[np.zeros(len(hams)), np.ones(len(spams))]"
   ],
   "metadata": {
    "collapsed": false,
    "pycharm": {
     "name": "#%%\n"
    }
   }
  },
  {
   "cell_type": "code",
   "execution_count": 11,
   "outputs": [],
   "source": [
    "count_vectorizer = TfidfVectorizer()\n",
    "X = count_vectorizer.fit_transform(X_all)"
   ],
   "metadata": {
    "collapsed": false,
    "pycharm": {
     "name": "#%%\n"
    }
   }
  },
  {
   "cell_type": "code",
   "execution_count": 12,
   "outputs": [],
   "source": [
    "X_train, X_test, y_train, y_test =  train_test_split(X,y, test_size=0.33)"
   ],
   "metadata": {
    "collapsed": false,
    "pycharm": {
     "name": "#%%\n"
    }
   }
  },
  {
   "cell_type": "code",
   "execution_count": 13,
   "outputs": [
    {
     "name": "stdout",
     "output_type": "stream",
     "text": [
      "0.9901082276271383\n"
     ]
    }
   ],
   "source": [
    "nb = MultinomialNB()\n",
    "nb.fit(X_train, y_train)\n",
    "print(nb.score(X_test, y_test))\n"
   ],
   "metadata": {
    "collapsed": false,
    "pycharm": {
     "name": "#%%\n"
    }
   }
  },
  {
   "cell_type": "code",
   "execution_count": null,
   "outputs": [],
   "source": [],
   "metadata": {
    "collapsed": false,
    "pycharm": {
     "name": "#%%\n"
    }
   }
  }
 ],
 "metadata": {
  "kernelspec": {
   "display_name": "Python 3",
   "language": "python",
   "name": "python3"
  },
  "language_info": {
   "codemirror_mode": {
    "name": "ipython",
    "version": 2
   },
   "file_extension": ".py",
   "mimetype": "text/x-python",
   "name": "python",
   "nbconvert_exporter": "python",
   "pygments_lexer": "ipython2",
   "version": "2.7.6"
  }
 },
 "nbformat": 4,
 "nbformat_minor": 0
}