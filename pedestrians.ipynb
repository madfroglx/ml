{
 "cells": [
  {
   "cell_type": "code",
   "execution_count": 10,
   "metadata": {
    "collapsed": true
   },
   "outputs": [],
   "source": [
    "import os\n",
    "import matplotlib.pyplot as plt\n",
    "from skimage.feature import hog\n",
    "from skimage import io\n",
    "from skimage.transform import resize\n",
    "import numpy as np\n",
    "import random\n",
    "from sklearn.model_selection import train_test_split\n",
    "from sklearn.svm import SVC"
   ]
  },
  {
   "cell_type": "code",
   "execution_count": 11,
   "outputs": [],
   "source": [
    "file_dir = 'D:\\pedestrian\\pedestrians128x64'\n",
    "for i in range(5):\n",
    "    filename = \"%s\\per0010%d.ppm\" % (file_dir, i)"
   ],
   "metadata": {
    "collapsed": false,
    "pycharm": {
     "name": "#%%\n"
    }
   }
  },
  {
   "cell_type": "code",
   "execution_count": 26,
   "outputs": [
    {
     "name": "stdout",
     "output_type": "stream",
     "text": [
      "(399, 6804)\n"
     ]
    }
   ],
   "source": [
    "random.seed(42)\n",
    "X_pos = []\n",
    "for i in random.sample(range(900), 400):  ## 随机采样\n",
    "    filename = \"%s\\per%05d.ppm\" % (file_dir, i)\n",
    "    try:\n",
    "        img = io.imread(filename)\n",
    "    except FileNotFoundError :\n",
    "        continue\n",
    "    X_pos.append(hog(image=img))\n",
    "X_pos = np.array(X_pos)\n",
    "X_pos_size = len(X_pos)\n",
    "print(np.array(X_pos).shape)\n",
    "y = np.ones(X_pos_size)"
   ],
   "metadata": {
    "collapsed": false,
    "pycharm": {
     "name": "#%%\n"
    }
   }
  },
  {
   "cell_type": "code",
   "execution_count": 27,
   "outputs": [
    {
     "name": "stdout",
     "output_type": "stream",
     "text": [
      "(649, 6804)\n",
      "(649,)\n"
     ]
    }
   ],
   "source": [
    "h = 128\n",
    "w = 64\n",
    "neg_file_dir = 'D:\\pedestrian\\pedestrians_neg'\n",
    "X_neg = []\n",
    "for i in range(5):\n",
    "    rad_y = random.randint(0, 512 - h)\n",
    "    rad_x = random.randint(0, 512 - w)\n",
    "    for neg_file in os.listdir(neg_file_dir):\n",
    "        neg_image = resize(io.imread('%s\\%s' % (neg_file_dir, neg_file)), (512, 512))[rad_y: rad_y + h,\n",
    "                    rad_x:rad_x + w]\n",
    "        X_neg.append(hog(image=neg_image))\n",
    "X_neg = np.array(X_neg)\n",
    "# print(X_pos.shape, X_neg.shape)\n",
    "X = np.concatenate((X_pos, X_neg))\n",
    "y = np.append(y, np.zeros(len(X_neg)))\n",
    "print(X.shape)\n",
    "print(y.shape)"
   ],
   "metadata": {
    "collapsed": false,
    "pycharm": {
     "name": "#%%\n"
    }
   }
  },
  {
   "cell_type": "code",
   "execution_count": 28,
   "outputs": [
    {
     "name": "stdout",
     "output_type": "stream",
     "text": [
      "(434, 6804) (434,)\n"
     ]
    }
   ],
   "source": [
    "# X = X.reshape((449, 1980))\n",
    "X_train, X_test, y_train, y_test = train_test_split(X, y, test_size=0.33, random_state=42)\n",
    "print(X_train.shape, y_train.shape)"
   ],
   "metadata": {
    "collapsed": false,
    "pycharm": {
     "name": "#%%\n"
    }
   }
  },
  {
   "cell_type": "code",
   "execution_count": 29,
   "outputs": [],
   "source": [
    "def svm_train(xt, yt):\n",
    "    result = SVC(kernel='rbf')\n",
    "    result.fit(xt, yt)\n",
    "    return result\n",
    "\n",
    "\n",
    "def svm_score(svm, xt, yt, xts, yts):\n",
    "    return svm.score(xt, yt), svm.score(xts, yts)"
   ],
   "metadata": {
    "collapsed": false,
    "pycharm": {
     "name": "#%%\n"
    }
   }
  },
  {
   "cell_type": "code",
   "execution_count": 30,
   "outputs": [
    {
     "name": "stdout",
     "output_type": "stream",
     "text": [
      "(0.8940092165898618, 0.8558139534883721)\n"
     ]
    }
   ],
   "source": [
    "svm = svm_train(X_train, y_train)\n",
    "score = svm_score(svm, X_train, y_train, X_test, y_test)\n",
    "print(score)\n"
   ],
   "metadata": {
    "collapsed": false,
    "pycharm": {
     "name": "#%%\n"
    }
   }
  },
  {
   "cell_type": "code",
   "execution_count": 31,
   "outputs": [],
   "source": [
    "train_score = []\n",
    "test_score = []\n",
    "for i in range(3):\n",
    "    y_predict = svm.predict(X_train)"
   ],
   "metadata": {
    "collapsed": false,
    "pycharm": {
     "name": "#%%\n"
    }
   }
  },
  {
   "cell_type": "code",
   "execution_count": null,
   "outputs": [],
   "source": [],
   "metadata": {
    "collapsed": false,
    "pycharm": {
     "name": "#%%\n"
    }
   }
  }
 ],
 "metadata": {
  "kernelspec": {
   "display_name": "Python 3",
   "language": "python",
   "name": "python3"
  },
  "language_info": {
   "codemirror_mode": {
    "name": "ipython",
    "version": 2
   },
   "file_extension": ".py",
   "mimetype": "text/x-python",
   "name": "python",
   "nbconvert_exporter": "python",
   "pygments_lexer": "ipython2",
   "version": "2.7.6"
  }
 },
 "nbformat": 4,
 "nbformat_minor": 0
}