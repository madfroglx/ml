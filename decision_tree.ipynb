{
 "cells": [
  {
   "cell_type": "code",
   "execution_count": 44,
   "outputs": [],
   "source": [
    "from sklearn.feature_extraction.text import CountVectorizer\n",
    "from ml.tools.generate import generate_basorexia_data\n",
    "from matplotlib import pyplot as plt\n",
    "from sklearn.feature_extraction import DictVectorizer\n",
    "from sklearn.model_selection import train_test_split\n",
    "from sklearn.tree import DecisionTreeClassifier\n",
    "from sklearn.tree import export_graphviz"
   ],
   "metadata": {
    "collapsed": false,
    "pycharm": {
     "name": "#%%\n"
    }
   }
  },
  {
   "cell_type": "code",
   "execution_count": 35,
   "metadata": {
    "collapsed": true,
    "pycharm": {
     "name": "#%%\n"
    }
   },
   "outputs": [
    {
     "name": "stdout",
     "output_type": "stream",
     "text": [
      "[{'age': 65, 'sex': 'M', 'BP': 'normal', 'cholestrol': 'low', 'Na': 0.8353510828121095, 'K': 0.2335099516957232, 'drug': 'D'}, {'age': 27, 'sex': 'F', 'BP': 'low', 'cholestrol': 'high', 'Na': 0.03589708832138083, 'K': 0.6161041792687213, 'drug': 'B'}, {'age': 46, 'sex': 'M', 'BP': 'low', 'cholestrol': 'low', 'Na': 0.6752880279338331, 'K': 0.3971954686828003, 'drug': 'D'}, {'age': 20, 'sex': 'M', 'BP': 'normal', 'cholestrol': 'high', 'Na': 0.76565747393754, 'K': 0.6012307197464407, 'drug': 'B'}, {'age': 61, 'sex': 'F', 'BP': 'low', 'cholestrol': 'normal', 'Na': 0.9860428971471017, 'K': 0.31913173414178897, 'drug': 'D'}, {'age': 85, 'sex': 'M', 'BP': 'normal', 'cholestrol': 'low', 'Na': 0.09152058336317848, 'K': 0.47874950545022177, 'drug': 'D'}, {'age': 85, 'sex': 'F', 'BP': 'high', 'cholestrol': 'low', 'Na': 0.6712448421267955, 'K': 0.1805589336644371, 'drug': 'B'}, {'age': 73, 'sex': 'M', 'BP': 'high', 'cholestrol': 'high', 'Na': 0.21790649823949892, 'K': 0.721200838225303, 'drug': 'C'}, {'age': 28, 'sex': 'F', 'BP': 'normal', 'cholestrol': 'normal', 'Na': 0.8263488867429362, 'K': 0.07926225362441708, 'drug': 'B'}, {'age': 60, 'sex': 'M', 'BP': 'high', 'cholestrol': 'high', 'Na': 0.7122431867494287, 'K': 0.8428941964932101, 'drug': 'B'}, {'age': 52, 'sex': 'M', 'BP': 'normal', 'cholestrol': 'low', 'Na': 0.4335172157300772, 'K': 0.08755617614053124, 'drug': 'D'}, {'age': 32, 'sex': 'F', 'BP': 'high', 'cholestrol': 'high', 'Na': 0.750343042600199, 'K': 0.720370647440605, 'drug': 'B'}, {'age': 78, 'sex': 'F', 'BP': 'normal', 'cholestrol': 'normal', 'Na': 0.24500033236344787, 'K': 0.5592455127407775, 'drug': 'D'}, {'age': 92, 'sex': 'M', 'BP': 'low', 'cholestrol': 'low', 'Na': 0.05113724732075353, 'K': 0.0565346024307799, 'drug': 'D'}, {'age': 46, 'sex': 'M', 'BP': 'low', 'cholestrol': 'high', 'Na': 0.9182899681419898, 'K': 0.9601829445247543, 'drug': 'C'}, {'age': 69, 'sex': 'M', 'BP': 'low', 'cholestrol': 'low', 'Na': 0.40727211994140444, 'K': 0.06489730340048827, 'drug': 'B'}, {'age': 45, 'sex': 'M', 'BP': 'low', 'cholestrol': 'low', 'Na': 0.7787492016407669, 'K': 0.6331329493482857, 'drug': 'A'}, {'age': 82, 'sex': 'F', 'BP': 'low', 'cholestrol': 'low', 'Na': 0.8082290427766958, 'K': 0.8973708571073395, 'drug': 'B'}, {'age': 44, 'sex': 'F', 'BP': 'low', 'cholestrol': 'normal', 'Na': 0.43890008954204196, 'K': 0.21401022806968373, 'drug': 'C'}, {'age': 44, 'sex': 'F', 'BP': 'normal', 'cholestrol': 'low', 'Na': 0.6793895776457497, 'K': 0.5956899697458177, 'drug': 'B'}]\n",
      "[3, 1, 3, 1, 3, 3, 1, 2, 1, 1, 3, 1, 3, 3, 2, 1, 0, 1, 2, 1]\n"
     ]
    }
   ],
   "source": [
    "data = generate_basorexia_data(20)\n",
    "print(data)\n",
    "target = [d.pop(\"drug\") for d in data]\n",
    "target = [ord(t) - 65 for t in target]\n",
    "print(target)"
   ]
  },
  {
   "cell_type": "code",
   "execution_count": 36,
   "outputs": [],
   "source": [
    "sodium = [d.get(\"Na\") for d in data]\n",
    "posassium = [d.get(\"K\") for d in data]\n",
    "age =  [d.get(\"age\") for d in data]"
   ],
   "metadata": {
    "collapsed": false,
    "pycharm": {
     "name": "#%%\n"
    }
   }
  },
  {
   "cell_type": "code",
   "execution_count": 18,
   "outputs": [
    {
     "data": {
      "text/plain": "<Figure size 432x288 with 1 Axes>",
      "image/png": "[encoded data removed]"
     },
     "metadata": {
      "needs_background": "light"
     },
     "output_type": "display_data"
    }
   ],
   "source": [],
   "metadata": {
    "collapsed": false,
    "pycharm": {
     "name": "#%%\n"
    }
   }
  },
  {
   "cell_type": "code",
   "execution_count": 37,
   "outputs": [
    {
     "data": {
      "text/plain": "<Figure size 432x288 with 3 Axes>",
      "image/png": "[encoded data removed]"
     },
     "metadata": {
      "needs_background": "light"
     },
     "output_type": "display_data"
    }
   ],
   "source": [
    "plt.subplot(221)\n",
    "plt.scatter(sodium, posassium,c=target, s=2)\n",
    "plt.xlabel(\"Na\")\n",
    "plt.ylabel(\"K\")\n",
    "\n",
    "plt.subplot(222)\n",
    "plt.scatter(age, posassium, s=2)\n",
    "plt.xlabel(\"age\")\n",
    "plt.ylabel(\"K\")\n",
    "\n",
    "plt.subplot(223)\n",
    "plt.scatter(age, sodium, s=2)\n",
    "plt.xlabel(\"age\")\n",
    "plt.ylabel(\"Na\")\n",
    "plt.show()"
   ],
   "metadata": {
    "collapsed": false,
    "pycharm": {
     "name": "#%%\n"
    }
   }
  },
  {
   "cell_type": "code",
   "execution_count": 40,
   "outputs": [],
   "source": [
    "vec = DictVectorizer(sparse=False)\n",
    "data_pre = vec.fit_transform(data)\n",
    "X_train, X_test, y_train, y_test = train_test_split(data_pre, target, train_size=0.9)"
   ],
   "metadata": {
    "collapsed": false,
    "pycharm": {
     "name": "#%%\n"
    }
   }
  },
  {
   "cell_type": "code",
   "execution_count": 69,
   "outputs": [
    {
     "name": "stdout",
     "output_type": "stream",
     "text": [
      "0.5\n"
     ]
    }
   ],
   "source": [
    "dc = DecisionTreeClassifier(max_depth=10)\n",
    "dc.fit(X_train, y_train)\n",
    "print(dc.score(X_test, y_test))"
   ],
   "metadata": {
    "collapsed": false,
    "pycharm": {
     "name": "#%%\n"
    }
   }
  },
  {
   "cell_type": "code",
   "execution_count": 62,
   "outputs": [
    {
     "name": "stdout",
     "output_type": "stream",
     "text": [
      "['BP=high', 'BP=low', 'BP=normal', 'K', 'Na', 'age', 'cholestrol=high', 'cholestrol=low', 'cholestrol=normal', 'sex=F', 'sex=M']\n",
      "[0.         0.         0.08910891 0.49653465 0.23019802 0.\n",
      " 0.         0.         0.         0.         0.18415842]\n"
     ]
    },
    {
     "data": {
      "text/plain": "<BarContainer object of 11 artists>"
     },
     "execution_count": 62,
     "metadata": {},
     "output_type": "execute_result"
    },
    {
     "data": {
      "text/plain": "<Figure size 432x288 with 1 Axes>",
      "image/png": "[encoded data removed]"
     },
     "metadata": {
      "needs_background": "light"
     },
     "output_type": "display_data"
    }
   ],
   "source": [
    "# with open('D:/test/a.dot', 'w') as f:\n",
    "#     export_graphviz(dc, out_file=f)\n",
    "print(vec.get_feature_names())\n",
    "print(dc.feature_importances_)\n",
    "plt.barh(width=10, y = dc.feature_importances_, tick_label = vec.get_feature_names())"
   ],
   "metadata": {
    "collapsed": false,
    "pycharm": {
     "name": "#%%\n"
    }
   }
  },
  {
   "cell_type": "code",
   "execution_count": null,
   "outputs": [],
   "source": [],
   "metadata": {
    "collapsed": false,
    "pycharm": {
     "name": "#%%\n"
    }
   }
  }
 ],
 "metadata": {
  "kernelspec": {
   "display_name": "Python 3",
   "language": "python",
   "name": "python3"
  },
  "language_info": {
   "codemirror_mode": {
    "name": "ipython",
    "version": 2
   },
   "file_extension": ".py",
   "mimetype": "text/x-python",
   "name": "python",
   "nbconvert_exporter": "python",
   "pygments_lexer": "ipython2",
   "version": "2.7.6"
  }
 },
 "nbformat": 4,
 "nbformat_minor": 0
}