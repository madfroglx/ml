{
 "cells": [
  {
   "cell_type": "code",
   "execution_count": 62,
   "outputs": [],
   "source": [
    "import numpy as np\n",
    "from sklearn.neighbors import KNeighborsClassifier\n",
    "from ml.tools import generate\n",
    "from matplotlib import pyplot as plt\n",
    "from sklearn.model_selection import train_test_split\n",
    "from sklearn import linear_model"
   ],
   "metadata": {
    "collapsed": false,
    "pycharm": {
     "name": "#%%\n"
    }
   }
  },
  {
   "cell_type": "code",
   "execution_count": null,
   "outputs": [],
   "source": [
    "train_data, train_labels = generate.generate_data()\n",
    "knn = KNeighborsClassifier(n_neighbors=3)\n",
    "knn.fit(train_data,train_labels)"
   ],
   "metadata": {
    "collapsed": false,
    "pycharm": {
     "name": "#%%\n"
    }
   }
  },
  {
   "cell_type": "code",
   "execution_count": 30,
   "outputs": [
    {
     "name": "stdout",
     "output_type": "stream",
     "text": [
      "[0 1 1 0 0 0 1 0 0 0 0 0 0 1 1 0 0 1 0 1 1 0 0 0 1 0 0 0 1 1 0 1 0 0 1 1 1\n",
      " 1 1 0 0 0 0 1 1 1 0 1 1 0 1 0 0 0 0 1 0 1 1 0 0 0 0 1 0 0 1 1 1 0]\n",
      "[0 0 1 1 0 0 0 1 0 1 1 1 0 1 0 1 0 1 0 1 0 0 0 0 1 1 0 1 0 0 1 0 0 1 0 0 0\n",
      " 0 1 1 1 0 0 1 0 0 0 0 1 1 1 0 1 1 0 0 1 1 1 1 0 1 1 0 1 0 0 0 1 1]\n"
     ]
    }
   ],
   "source": [
    "test_data, test_labels = generate.generate_data()\n",
    "predict = knn.predict(test_data)\n",
    "print(predict)\n",
    "print(test_labels)"
   ],
   "metadata": {
    "collapsed": false,
    "pycharm": {
     "name": "#%%\n"
    }
   }
  },
  {
   "cell_type": "code",
   "execution_count": 32,
   "outputs": [
    {
     "name": "stdout",
     "output_type": "stream",
     "text": [
      "red= [[27 73]\n",
      " [24 16]\n",
      " [12 83]\n",
      " [24 67]\n",
      " [51 25]\n",
      " [63 97]\n",
      " [58 55]\n",
      " [58 69]\n",
      " [69 69]\n",
      " [74 61]\n",
      " [61 93]\n",
      " [94 23]\n",
      " [ 2 30]\n",
      " [39 35]\n",
      " [23 94]\n",
      " [74  3]\n",
      " [96 19]\n",
      " [11 46]\n",
      " [13 63]\n",
      " [37 36]\n",
      " [49  9]\n",
      " [ 4 22]\n",
      " [83 64]\n",
      " [62 72]\n",
      " [16  8]\n",
      " [74 14]\n",
      " [59 49]\n",
      " [77 74]\n",
      " [34  0]\n",
      " [21 59]]\n",
      "blue= [[38 56]\n",
      " [16 85]\n",
      " [89 43]\n",
      " [ 9 66]\n",
      " [17 99]\n",
      " [85 33]\n",
      " [ 7 39]\n",
      " [82 41]\n",
      " [40  5]\n",
      " [32 52]\n",
      " [21 20]\n",
      " [ 3 93]\n",
      " [54  8]\n",
      " [ 5 65]\n",
      " [83 91]\n",
      " [78  5]\n",
      " [93 50]\n",
      " [61 56]\n",
      " [65 78]\n",
      " [74  7]\n",
      " [25 50]\n",
      " [44 43]\n",
      " [ 4 69]\n",
      " [25 67]\n",
      " [18 83]\n",
      " [ 0 89]\n",
      " [10 99]\n",
      " [76  2]\n",
      " [32  5]\n",
      " [ 9 43]\n",
      " [ 1 12]\n",
      " [39  1]\n",
      " [23 37]\n",
      " [34 93]\n",
      " [94 48]\n",
      " [68 61]\n",
      " [ 8 33]\n",
      " [75 98]\n",
      " [39 63]\n",
      " [63 92]]\n"
     ]
    }
   ],
   "source": [
    "red = train_data[train_labels == 1]\n",
    "blue = train_data[train_labels == 0]\n",
    "print(\"red=\",red)\n",
    "print(\"blue=\",blue)"
   ],
   "metadata": {
    "collapsed": false,
    "pycharm": {
     "name": "#%%\n"
    }
   }
  },
  {
   "cell_type": "code",
   "execution_count": 51,
   "outputs": [
    {
     "data": {
      "text/plain": "<Figure size 432x288 with 1 Axes>",
      "image/png": "[encoded data removed]"
     },
     "metadata": {
      "needs_background": "light"
     },
     "output_type": "display_data"
    }
   ],
   "source": [
    "plt.scatter(blue[:,0], blue[:,1], c='b', s=1)\n",
    "plt.scatter(red[:,0], red[:,1], c='r', s=1)\n",
    "plt.plot(5,5,'go',markersize=2)\n",
    "plt.show()"
   ],
   "metadata": {
    "collapsed": false,
    "pycharm": {
     "name": "#%%\n"
    }
   }
  },
  {
   "cell_type": "code",
   "execution_count": 52,
   "outputs": [
    {
     "name": "stdout",
     "output_type": "stream",
     "text": [
      "[27 73 38 56 16 85 89 43 24 16 12 83 24 67  9 66 17 99 85 33  7 39 82 41\n",
      " 40  5 51 25 63 97 58 55 58 69 32 52 21 20 69 69  3 93 74 61 61 93 94 23\n",
      " 54  8  2 30 39 35 23 94  5 65 83 91 74  3 78  5 93 50 61 56 65 78 74  7\n",
      " 25 50 44 43  4 69 25 67 18 83 96 19 11 46  0 89 13 63 37 36 10 99 76  2\n",
      " 32  5 49  9  4 22  9 43  1 12 39  1 83 64 62 72 16  8 74 14 23 37 34 93\n",
      " 94 48 68 61 59 49 77 74  8 33 75 98 34  0 39 63 21 59 63 92]\n"
     ]
    }
   ],
   "source": [
    "print(train_data.ravel())"
   ],
   "metadata": {
    "collapsed": false,
    "pycharm": {
     "name": "#%%\n"
    }
   }
  },
  {
   "cell_type": "code",
   "execution_count": 80,
   "outputs": [
    {
     "data": {
      "text/plain": "<Figure size 432x288 with 1 Axes>",
      "image/png": "[encoded data removed]"
     },
     "metadata": {
      "needs_background": "light"
     },
     "output_type": "display_data"
    }
   ],
   "source": [
    "x = np.linspace(0, 10, 100)\n",
    "y_hat = x*5+5\n",
    "np.random.seed(42)\n",
    "y = x*5 + 20*(np.random.rand(x.size) - 0.5) + 5\n",
    "plt.plot(x, y_hat)\n",
    "plt.plot(x,y,'x')\n",
    "plt.show()"
   ],
   "metadata": {
    "collapsed": false,
    "pycharm": {
     "name": "#%%\n"
    }
   }
  },
  {
   "cell_type": "code",
   "execution_count": 81,
   "outputs": [
    {
     "name": "stdout",
     "output_type": "stream",
     "text": [
      "0.8414357439697254\n"
     ]
    },
    {
     "data": {
      "text/plain": "<Figure size 432x288 with 1 Axes>",
      "image/png": "[encoded data removed]"
     },
     "metadata": {
      "needs_background": "light"
     },
     "output_type": "display_data"
    }
   ],
   "source": [
    "X_train, X_test, y_train, y_test = train_test_split(x, y,test_size=0.3,train_size=0.7,random_state=42)\n",
    "reg = linear_model.LinearRegression()\n",
    "reg.fit(X_train.reshape(-1, 1),y_train.reshape(-1, 1))\n",
    "y_pred = reg.predict(X_test.reshape(-1, 1))\n",
    "print(reg.score(X_test.reshape(-1,1),y_test.reshape(-1, 1)))\n",
    "plt.plot(x, y_hat)\n",
    "plt.plot(x,y,'x')\n",
    "plt.plot(X_test,y_pred,'^')\n",
    "plt.show()"
   ],
   "metadata": {
    "collapsed": false,
    "pycharm": {
     "name": "#%%\n"
    }
   }
  },
  {
   "cell_type": "code",
   "execution_count": null,
   "outputs": [],
   "source": [],
   "metadata": {
    "collapsed": false,
    "pycharm": {
     "name": "#%%\n"
    }
   }
  }
 ],
 "metadata": {
  "kernelspec": {
   "display_name": "Python 3",
   "language": "python",
   "name": "python3"
  },
  "language_info": {
   "codemirror_mode": {
    "name": "ipython",
    "version": 2
   },
   "file_extension": ".py",
   "mimetype": "text/x-python",
   "name": "python",
   "nbconvert_exporter": "python",
   "pygments_lexer": "ipython2",
   "version": "2.7.6"
  }
 },
 "nbformat": 4,
 "nbformat_minor": 0
}